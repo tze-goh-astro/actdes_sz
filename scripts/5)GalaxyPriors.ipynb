{
 "cells": [
  {
   "cell_type": "code",
   "execution_count": 13,
   "id": "8df15a02-f9b1-471f-af46-ea1f9d4ad517",
   "metadata": {},
   "outputs": [],
   "source": [
    "#####################################################################\n",
    "#\n",
    "#    CREATED : May 3, 2021\n",
    "#\n",
    "#\n",
    "#    NAME: 5)GalaxyPriors.npy\n",
    "#\n",
    "#\n",
    "#    FORMER NAME : P)TheFinalBackground.ipynb\n",
    "#\n",
    "#    WHAT : This will help you get the priors for the galaxy background.\n",
    "#                --> Gets you bgAverage & bgCovMatrix\n",
    "#\n",
    "#           And then WE  WILL CALCULATE THE BIAS OF THE LIKELIHOOD FUNCTION\n",
    "#\n",
    "#\n",
    "#    DATA:\n",
    "#\n",
    "#            5)data/chain_3x2pt_lcdm_SR_maglim.txt\n",
    "#\n",
    "#\n",
    "#####################################################################"
   ]
  },
  {
   "cell_type": "markdown",
   "id": "73349a1f-dc66-4d69-8a75-bdb8bc1881bb",
   "metadata": {},
   "source": [
    "# output\n",
    "\n",
    "   - [ ] '5)dataOut/bgAverage.npy'                \n",
    "   - [ ] '5)dataOut/bgCovMatrix.npy "
   ]
  },
  {
   "cell_type": "code",
   "execution_count": 14,
   "id": "3a23b8b2-785d-4e67-9a5d-28ab9fa5733b",
   "metadata": {},
   "outputs": [
    {
     "name": "stdout",
     "output_type": "stream",
     "text": [
      "The autoreload extension is already loaded. To reload it, use:\n",
      "  %reload_ext autoreload\n",
      "/Users/tzegoh_1/Desktop/-1_0th_Project_REDO\n",
      "3.12.7 python version\n"
     ]
    }
   ],
   "source": [
    "from __future__ import division\n",
    "%load_ext autoreload\n",
    "%autoreload 2\n",
    "import numpy as np\n",
    "import numpy\n",
    "import matplotlib.pyplot as plt\n",
    "import math\n",
    "import sys, platform, os\n",
    "import re\n",
    "import time\n",
    "import pprint\n",
    "from numpy import genfromtxt\n",
    "import importlib\n",
    "plt.rcParams['figure.figsize']=(18,18)\n",
    "%matplotlib inline\n",
    "print(os.getcwd())\n",
    "print(platform.python_version(),'python version')\n",
    "import matplotlib.cm as cmap\n",
    "\n",
    "#Astropy\n",
    "from astropy import units as u\n",
    "from astropy.coordinates import Angle\n",
    "from astropy import wcs\n",
    "from astropy.coordinates import SkyCoord\n",
    "from astropy.utils.data import download_file\n",
    "from astropy.io import fits\n",
    "from astropy.utils.data import get_pkg_data_filename\n",
    "from astropy.visualization import astropy_mpl_style\n",
    "#Astropy cosmology\n",
    "from astropy.cosmology import WMAP9 as cosmo\n",
    "\n",
    "#Scipy\n",
    "from scipy import interpolate\n",
    "from scipy.interpolate import interp1d\n",
    "from scipy.optimize import minimize\n",
    "from scipy import signal\n",
    "\n",
    "\n",
    "from chainconsumer import ChainConsumer\n",
    "\n",
    "#treecorr\n",
    "import treecorr\n",
    "\n",
    "#pandas\n",
    "import pandas as pd\n",
    "\n",
    "# fitsio\n",
    "import fitsio\n",
    "\n",
    "#healpy\n",
    "import healpy as hp \n",
    "\n",
    "#Linear Al\n",
    "from numpy.linalg import inv\n",
    "\n",
    "#h5py\n",
    "import h5py\n",
    "\n",
    "#CAMB\n",
    "import camb\n",
    "from camb import model, initialpower,get_matter_power_interpolator\n",
    "\n",
    "# Print\n",
    "np.set_printoptions(threshold=50)\n",
    "\n",
    "#corner plot\n",
    "import corner\n",
    "\n",
    "#emcee\n",
    "import emcee\n",
    "\n",
    "# Let's get the pretty colors\n",
    "cmap = plt.get_cmap('spring')\n",
    "\n",
    "# This is the main Library where all the definitions are kept \n",
    "F =  __import__('1)FLibrary')\n",
    "J =  __import__('2)JLibrary')"
   ]
  },
  {
   "cell_type": "markdown",
   "id": "85f6d0c5-e760-4a4e-b0cf-c63afefc866a",
   "metadata": {},
   "source": [
    "# CONSTRUCT PRIORS \n",
    "\n",
    "We should switch over to using the actual prior on the galaxy bias parameters that\n",
    "comes from other DES analysis.  To construct that prior, you can use the file below. \n",
    "\n",
    "The first line of the file explains the columns. \n",
    "After a bunch of header stuff, the rest of the file is a posterior chain. \n",
    "From this chain, you can calculate a covariance matrix for the bias parameters \n",
    "(labelled as bias_lens--b1 etc.). \n",
    "\n",
    "When computing the covariance matrix, make sure to use the \"weight\" column, \n",
    "which provides the weight for each posterior sample.  \n",
    "\n",
    "Once you have the covariance matrix, you can use this to define a Gaussian prior. "
   ]
  },
  {
   "cell_type": "code",
   "execution_count": 15,
   "id": "bd17adde-582c-468e-8801-e4b529145bf8",
   "metadata": {},
   "outputs": [
    {
     "data": {
      "text/plain": [
       "'#cosmological_parameters--omega_m\\t\\ncosmological_parameters--h0\\t\\ncosmological_parameters--omega_b\\t\\ncosmological_parameters--n_s\\t\\ncosmological_parameters--a_s\\t\\ncosmological_parameters--omnuh2\\t\\nshear_calibration_parameters--m1\\t\\nshear_calibration_parameters--m2\\t\\nshear_calibration_parameters--m3\\t\\nshear_calibration_parameters--m4\\t\\nwl_photoz_errors--bias_1\\t\\nwl_photoz_errors--bias_2\\t\\nwl_photoz_errors--bias_3\\t\\nwl_photoz_errors--bias_4\\t\\nlens_photoz_errors--bias_1\\t\\nlens_photoz_errors--bias_2\\t\\nlens_photoz_errors--bias_3\\t\\nlens_photoz_errors--bias_4\\t\\nlens_photoz_errors--width_1\\t\\nlens_photoz_errors--width_2\\t\\nlens_photoz_errors--width_3\\t\\nlens_photoz_errors--width_4\\t\\n22:bias_lens--b1\\t ** z: 0.2 -- 0.4 \\n23:bias_lens--b2\\t ** z: 0.4 -- 0.55\\n24:bias_lens--b3\\t ** z: 0.55-- 0.7\\n25:bias_lens--b4\\t ** z: 0.7 -- 0.85\\nintrinsic_alignment_parameters--a1\\t\\nintrinsic_alignment_parameters--a2\\t\\nintrinsic_alignment_parameters--alpha1\\t\\nintrinsic_alignment_parameters--alpha2\\t\\nintrinsic_alignment_parameters--bias_ta\\t\\nCOSMOLOGICAL_PARAMETERS--SIGMA_8\\t\\nCOSMOLOGICAL_PARAMETERS--SIGMA_12\\t\\nDATA_VECTOR--2PT_CHI2\\t\\nprior\\t **\\nlike\\t **\\npost\\t **\\nweight **\\n'"
      ]
     },
     "execution_count": 15,
     "metadata": {},
     "output_type": "execute_result"
    }
   ],
   "source": [
    "'''#cosmological_parameters--omega_m\t\n",
    "cosmological_parameters--h0\t\n",
    "cosmological_parameters--omega_b\t\n",
    "cosmological_parameters--n_s\t\n",
    "cosmological_parameters--a_s\t\n",
    "cosmological_parameters--omnuh2\t\n",
    "shear_calibration_parameters--m1\t\n",
    "shear_calibration_parameters--m2\t\n",
    "shear_calibration_parameters--m3\t\n",
    "shear_calibration_parameters--m4\t\n",
    "wl_photoz_errors--bias_1\t\n",
    "wl_photoz_errors--bias_2\t\n",
    "wl_photoz_errors--bias_3\t\n",
    "wl_photoz_errors--bias_4\t\n",
    "lens_photoz_errors--bias_1\t\n",
    "lens_photoz_errors--bias_2\t\n",
    "lens_photoz_errors--bias_3\t\n",
    "lens_photoz_errors--bias_4\t\n",
    "lens_photoz_errors--width_1\t\n",
    "lens_photoz_errors--width_2\t\n",
    "lens_photoz_errors--width_3\t\n",
    "lens_photoz_errors--width_4\t\n",
    "22:bias_lens--b1\t ** z: 0.2 -- 0.4 \n",
    "23:bias_lens--b2\t ** z: 0.4 -- 0.55\n",
    "24:bias_lens--b3\t ** z: 0.55-- 0.7\n",
    "25:bias_lens--b4\t ** z: 0.7 -- 0.85\n",
    "intrinsic_alignment_parameters--a1\t\n",
    "intrinsic_alignment_parameters--a2\t\n",
    "intrinsic_alignment_parameters--alpha1\t\n",
    "intrinsic_alignment_parameters--alpha2\t\n",
    "intrinsic_alignment_parameters--bias_ta\t\n",
    "COSMOLOGICAL_PARAMETERS--SIGMA_8\t\n",
    "COSMOLOGICAL_PARAMETERS--SIGMA_12\t\n",
    "DATA_VECTOR--2PT_CHI2\t\n",
    "prior\t **\n",
    "like\t **\n",
    "post\t **\n",
    "weight **\n",
    "'''"
   ]
  },
  {
   "cell_type": "code",
   "execution_count": 16,
   "id": "0542f847-8fbe-45c7-869f-432eefc5b978",
   "metadata": {},
   "outputs": [
    {
     "name": "stdout",
     "output_type": "stream",
     "text": [
      "(22619, 38)\n",
      "[[ 3.79849364e-01  8.01906887e-01  5.43648886e-02 ... -9.60254248e+05\n",
      "  -9.60191007e+05  0.00000000e+00]\n",
      " [ 3.25558138e-01  8.40476018e-01  3.29467539e-02 ... -9.38138083e+05\n",
      "  -9.38076828e+05  0.00000000e+00]\n",
      " [ 2.89650909e-01  6.89025040e-01  5.66132547e-02 ... -9.24304075e+05\n",
      "  -9.24237975e+05  0.00000000e+00]\n",
      " ...\n",
      " [ 3.73624337e-01  5.73931900e-01  4.68005339e-02 ...  5.80828380e+03\n",
      "   5.86166583e+03  7.51098863e-05]\n",
      " [ 3.37257773e-01  6.86988949e-01  4.16535260e-02 ...  5.80835578e+03\n",
      "   5.86413287e+03  8.07156234e-05]\n",
      " [ 3.55223638e-01  6.00607801e-01  4.45173197e-02 ...  5.80888910e+03\n",
      "   5.85964846e+03  1.37587212e-04]]\n",
      "(22619, 4)\n",
      "(22619,)\n"
     ]
    }
   ],
   "source": [
    "'''22:bias_lens--b1\t ** z: 0.2 -- 0.4 \n",
    "23:bias_lens--b2\t ** z: 0.4 -- 0.55\n",
    "24:bias_lens--b3\t ** z: 0.55-- 0.7\n",
    "25:bias_lens--b4\t ** z: 0.7 -- 0.85\n",
    "37:weights\n",
    "'''\n",
    "\n",
    "data = np.loadtxt('5)data/chain_3x2pt_lcdm_SR_maglim.txt')\n",
    "print(data.shape)\n",
    "print(data)\n",
    "bias = data[:,22:26]\n",
    "print(bias.shape)\n",
    "weights = data[:,37]\n",
    "print(weights.shape)"
   ]
  },
  {
   "cell_type": "code",
   "execution_count": 17,
   "id": "da0d411d-cf14-4806-8fe1-632f8f1bfb28",
   "metadata": {},
   "outputs": [
    {
     "name": "stdout",
     "output_type": "stream",
     "text": [
      "(22619, 4)\n",
      "(4,)\n",
      "[1.48784781 1.68593073 1.90861472 1.79274429]\n",
      "(22619,)\n",
      "[0.00000000e+00 0.00000000e+00 0.00000000e+00 ... 7.51098863e-05\n",
      " 8.07156234e-05 1.37587212e-04]\n"
     ]
    }
   ],
   "source": [
    "# The background average \n",
    "print(bias.shape)\n",
    "average = np.average(bias.T,axis=1,weights =  weights)\n",
    "print(average.shape)\n",
    "print(average)\n",
    "print(weights.shape)\n",
    "print(weights)\n",
    "\n",
    "np.save('5)dataOut/bgAverage.npy',average)"
   ]
  },
  {
   "cell_type": "code",
   "execution_count": 18,
   "id": "d3a3bbbb-2eb8-4e97-9d0a-f51586d7c793",
   "metadata": {},
   "outputs": [
    {
     "name": "stdout",
     "output_type": "stream",
     "text": [
      "(22619, 4)\n",
      "(4, 22619)\n",
      "[[0.00952257 0.0078341  0.00871456 0.00845201]\n",
      " [0.0078341  0.01234342 0.00953957 0.00911681]\n",
      " [0.00871456 0.00953957 0.01370079 0.01050783]\n",
      " [0.00845201 0.00911681 0.01050783 0.01267521]]\n",
      "(4, 4)\n"
     ]
    }
   ],
   "source": [
    "# The background Covariance matrix \n",
    "print(bias.shape)\n",
    "samples=bias.T#.flatten()\n",
    "print(samples.shape)\n",
    "cov = np.cov(samples,aweights=weights )\n",
    "print(cov)\n",
    "print(cov.shape)\n",
    "np.save('5)dataOut/bgCovMatrix.npy',cov)"
   ]
  },
  {
   "cell_type": "code",
   "execution_count": null,
   "id": "544bf5a2-1ef7-4b3a-88b5-d2b205683cb2",
   "metadata": {},
   "outputs": [],
   "source": []
  },
  {
   "cell_type": "code",
   "execution_count": null,
   "id": "3e464576-6100-4742-a263-642fd2efa91a",
   "metadata": {},
   "outputs": [],
   "source": []
  },
  {
   "cell_type": "code",
   "execution_count": null,
   "id": "09c12c40-65d7-4c4c-8c3e-9bcc8255f43a",
   "metadata": {},
   "outputs": [],
   "source": []
  },
  {
   "cell_type": "code",
   "execution_count": null,
   "id": "6e4d01cd-7765-4ea6-8bd4-2a13998230d8",
   "metadata": {},
   "outputs": [],
   "source": []
  },
  {
   "cell_type": "code",
   "execution_count": null,
   "id": "419746fb-d7af-45d7-bad0-18b8efb6dbcc",
   "metadata": {},
   "outputs": [],
   "source": []
  },
  {
   "cell_type": "code",
   "execution_count": null,
   "id": "c40f07e4-f22b-47c1-990a-274aef9e1ea4",
   "metadata": {},
   "outputs": [],
   "source": []
  },
  {
   "cell_type": "code",
   "execution_count": null,
   "id": "81a9da10-4cff-4dc8-b25d-5ffd9b5d33af",
   "metadata": {},
   "outputs": [],
   "source": []
  }
 ],
 "metadata": {
  "kernelspec": {
   "display_name": "Python 3 (ipykernel)",
   "language": "python",
   "name": "python3"
  },
  "language_info": {
   "codemirror_mode": {
    "name": "ipython",
    "version": 3
   },
   "file_extension": ".py",
   "mimetype": "text/x-python",
   "name": "python",
   "nbconvert_exporter": "python",
   "pygments_lexer": "ipython3",
   "version": "3.12.7"
  }
 },
 "nbformat": 4,
 "nbformat_minor": 5
}
